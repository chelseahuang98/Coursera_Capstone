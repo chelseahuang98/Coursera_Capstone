{
    "cells": [
        {
            "cell_type": "markdown",
            "metadata": {
                "collapsed": true
            },
            "source": "# 1.\tIntroduction/Business Problem"
        },
        {
            "attachments": {},
            "cell_type": "markdown",
            "metadata": {},
            "source": "Canada has an open immigration policy and a diverse and inclusive culture. Its diverse dining culture makes many restaurants with different styles or exotic flavors emerge in Canada. Toronto, the capital of Ontario, is the largest city in Canada and also one of the most diverse. But it is not easy for a restaurant to survive for a long time in a metropolis like Toronto. I am a Chinese who has lived in Toronto for four years and I found that many of my favorite restaurants have closed down after only a few years of opening. The location of the restaurant not only affects the market development capacity of the catering company, but also the size of its attractiveness to consumers, but more importantly, it has a strategic impact on the long-term benefits.\n\nHere we are mainly trying to investigate where would be a good choice for opening a restaurant from the perspective of location selection. Therefore, the target audience would be people that are considering opening a restaurant and they wonder how to choose the best location for their business. "
        },
        {
            "cell_type": "code",
            "execution_count": null,
            "metadata": {},
            "outputs": [],
            "source": ""
        },
        {
            "cell_type": "code",
            "execution_count": null,
            "metadata": {},
            "outputs": [],
            "source": ""
        }
    ],
    "metadata": {
        "kernelspec": {
            "display_name": "Python 3.6",
            "language": "python",
            "name": "python3"
        },
        "language_info": {
            "codemirror_mode": {
                "name": "ipython",
                "version": 3
            },
            "file_extension": ".py",
            "mimetype": "text/x-python",
            "name": "python",
            "nbconvert_exporter": "python",
            "pygments_lexer": "ipython3",
            "version": "3.6.9"
        }
    },
    "nbformat": 4,
    "nbformat_minor": 1
}